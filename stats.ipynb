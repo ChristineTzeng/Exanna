{
 "cells": [
  {
   "cell_type": "code",
   "execution_count": 1,
   "metadata": {},
   "outputs": [],
   "source": [
    "import csv\n",
    "import numpy as np, pandas as pd\n",
    "from scipy import stats\n",
    "from math import sqrt\n",
    "import statistics\n",
    "import researchpy"
   ]
  },
  {
   "cell_type": "code",
   "execution_count": 2,
   "metadata": {},
   "outputs": [],
   "source": [
    "env_path = ''\n",
    "logs_path = env_path + 'results/stats/'\n",
    "\n",
    "file_names = ['Share_all.csv', 'Share_rules.csv', 'Exanna.csv']\n",
    "\n",
    "count = 10"
   ]
  },
  {
   "cell_type": "code",
   "execution_count": 9,
   "metadata": {},
   "outputs": [
    {
     "name": "stdout",
     "output_type": "stream",
     "text": [
      "target_mean 60.4354371 target_std 2.106013931775406\n"
     ]
    }
   ],
   "source": [
    "# distributed_dataframe = pd.read_csv(logs_path + 'distributed.csv', error_bad_lines = False)\n",
    "share_all_dataframe = pd.read_csv(logs_path + file_names[0])\n",
    "share_rules_dataframe = pd.read_csv(logs_path + file_names[1])\n",
    "exanna_dataframe = pd.read_csv(logs_path + file_names[2])\n",
    "\n",
    "attribute = 'resolution'\n",
    "target_df = exanna_dataframe\n",
    "target_std, target_mean = statistics.stdev(target_df[attribute]), statistics.mean(target_df[attribute])\n",
    "\n",
    "print('target_mean', target_mean, 'target_std', target_std)"
   ]
  },
  {
   "cell_type": "code",
   "execution_count": 10,
   "metadata": {},
   "outputs": [
    {
     "name": "stdout",
     "output_type": "stream",
     "text": [
      "share_all_dataframe controled_mean 58.4541482\n",
      "share_rules_dataframe controled_mean 58.1909254\n"
     ]
    }
   ],
   "source": [
    "controled_df = share_all_dataframe\n",
    "controled_std, controled_mean = statistics.stdev(controled_df[attribute]), statistics.mean(controled_df[attribute])\n",
    "print('share_all_dataframe', 'controled_mean', controled_mean)\n",
    "controled_df = share_rules_dataframe\n",
    "controled_std, controled_mean = statistics.stdev(controled_df[attribute]), statistics.mean(controled_df[attribute])\n",
    "print('share_rules_dataframe', 'controled_mean', controled_mean)\n"
   ]
  },
  {
   "cell_type": "code",
   "execution_count": 11,
   "metadata": {},
   "outputs": [
    {
     "name": "stdout",
     "output_type": "stream",
     "text": [
      "delta 1.0004683987178982\n",
      "cohen_d 0.969246721266524\n",
      "controled_mean 58.4541482 controled_std 1.980361301305496\n",
      "Ttest_indResult(statistic=-2.1673015557207385, pvalue=0.04386875667005175)\n",
      "hedge_g 0.969246721266524\n"
     ]
    }
   ],
   "source": [
    "controled_df = share_all_dataframe\n",
    "controled_std, controled_mean = statistics.stdev(controled_df[attribute]), statistics.mean(controled_df[attribute])\n",
    "delta = (target_mean - controled_mean) / controled_std\n",
    "std_pooled = sqrt((target_std ** 2 + controled_std ** 2) / 2)\n",
    "cohen_d = (target_mean - controled_mean) / std_pooled\n",
    "print('delta', delta)\n",
    "print('cohen_d', cohen_d)\n",
    "print('controled_mean', controled_mean, 'controled_std', controled_std)\n",
    "print(stats.ttest_ind(controled_df[attribute], target_df[attribute], equal_var = True))\n",
    "\n",
    "std_pooled = sqrt((((count - 1) * (controled_std ** 2) + (count - 1) * (target_std ** 2))) / ((count - 1) + (count - 1)))\n",
    "hedge_g = (target_mean - controled_mean) / std_pooled\n",
    "print('hedge_g', hedge_g)"
   ]
  },
  {
   "cell_type": "code",
   "execution_count": 12,
   "metadata": {},
   "outputs": [
    {
     "name": "stdout",
     "output_type": "stream",
     "text": [
      "delta 2.163390441372683\n",
      "cohen_d 1.3520547291142335\n",
      "controled_mean 58.1909254 controled_std 1.0374972806923604\n",
      "Ttest_indResult(statistic=-3.0232862835994805, pvalue=0.007305656477651574)\n",
      "hedge_g 1.3520547291142335\n"
     ]
    }
   ],
   "source": [
    "controled_df = share_rules_dataframe\n",
    "controled_std, controled_mean = statistics.stdev(controled_df[attribute]), statistics.mean(controled_df[attribute])\n",
    "delta = (target_mean - controled_mean) / controled_std\n",
    "std_pooled = sqrt((target_std ** 2 + controled_std ** 2) / 2)\n",
    "cohen_d = (target_mean - controled_mean) / std_pooled\n",
    "print('delta', delta)\n",
    "print('cohen_d', cohen_d)\n",
    "print('controled_mean', controled_mean, 'controled_std', controled_std)\n",
    "print(stats.ttest_ind(controled_df[attribute], target_df[attribute], equal_var = True))\n",
    "\n",
    "std_pooled = sqrt((((count - 1) * (controled_std ** 2) + (count - 1) * (target_std ** 2))) / ((count - 1) + (count - 1)))\n",
    "hedge_g = (target_mean - controled_mean) / std_pooled\n",
    "print('hedge_g', hedge_g)"
   ]
  },
  {
   "cell_type": "markdown",
   "metadata": {},
   "source": [
    "Stats analysis by agent types"
   ]
  },
  {
   "cell_type": "code",
   "execution_count": 27,
   "metadata": {},
   "outputs": [],
   "source": [
    "env_path = ''\n",
    "logs_path = env_path + 'results/'\n",
    "\n",
    "file_names = ['Results_Sim4_1_1_updated_base.csv', 'Results_Sim5_1_1_updated_base.csv', 'Results_Sim6_1_1_updated_base.csv']\n",
    "societies = ['Share_all', 'Share_rules', 'Exanna']\n",
    "\n",
    "count = 10"
   ]
  },
  {
   "cell_type": "code",
   "execution_count": 36,
   "metadata": {},
   "outputs": [],
   "source": [
    "dataframes = []\n",
    "for idx in range(len(file_names)):\n",
    "    dataframe = pd.read_csv(logs_path + file_names[idx])\n",
    "    dataframes.append(dataframe)"
   ]
  },
  {
   "cell_type": "code",
   "execution_count": 49,
   "metadata": {},
   "outputs": [
    {
     "name": "stdout",
     "output_type": "stream",
     "text": [
      "Satisfaction_for_health_agents\n",
      "Exanna target_mean 0.1347951769382032 target_std 0.055688209171429935\n",
      "Share_all controled_mean 0.13789962710031323 controled_std 0.061569839126957314\n",
      "Share_rules controled_mean 0.11686959133991381 controled_std 0.07055008715936935\n",
      "Satisfaction_for_freedom_agents\n",
      "Exanna target_mean 0.08556910107420646 target_std 0.033605941425570225\n",
      "Share_all controled_mean 0.058701605277318714 controled_std 0.02978721532099779\n",
      "Share_rules controled_mean 0.057661185543343874 controled_std 0.03211492509187065\n"
     ]
    }
   ],
   "source": [
    "share_all_dataframe = pd.read_csv(logs_path + file_names[0])\n",
    "share_rules_dataframe = pd.read_csv(logs_path + file_names[1])\n",
    "exanna_dataframe = pd.read_csv(logs_path + file_names[2])\n",
    "\n",
    "reverse = True\n",
    "\n",
    "agent_types = ['health', 'freedom']\n",
    "agent_labels = np.array([\"Satisfaction_for_{}_agents\".format(x) for x in agent_types])\n",
    "# Expected_Actor_Payoff_for_{}_agents\n",
    "# Expected_Observer_Payoff_for_{}_agents\n",
    "# Satisfaction_for_{}_agents for flexibility  reverse = True\n",
    "\n",
    "target_df = dataframes[2]\n",
    "\n",
    "for agentId in range(len(agent_types)):\n",
    "    agent_label = agent_labels[agentId]\n",
    "    target_std, target_mean = statistics.stdev(target_df[agent_label]), 1 - statistics.mean(target_df[agent_label]) if reverse else statistics.mean(target_df[agent_label])\n",
    "    print(agent_labels[agentId])\n",
    "    print(societies[2], 'target_mean', target_mean, 'target_std', target_std)\n",
    "    \n",
    "    controled_df = dataframes[0]\n",
    "    controled_std, controled_mean = statistics.stdev(controled_df[agent_label]), 1 - statistics.mean(controled_df[agent_label]) if reverse else statistics.mean(controled_df[agent_label])\n",
    "    print(societies[0], 'controled_mean', controled_mean, 'controled_std', controled_std)\n",
    "    controled_df = dataframes[1]\n",
    "    controled_std, controled_mean = statistics.stdev(controled_df[agent_label]), 1 - statistics.mean(controled_df[agent_label]) if reverse else statistics.mean(controled_df[agent_label])\n",
    "    print(societies[1], 'controled_mean', controled_mean, 'controled_std', controled_std)"
   ]
  },
  {
   "cell_type": "code",
   "execution_count": 52,
   "metadata": {},
   "outputs": [
    {
     "name": "stdout",
     "output_type": "stream",
     "text": [
      "Share_all Satisfaction_for_health_agents\n",
      "delta -0.8499376767608726 cohen_d -1.0550633232179698\n",
      "controled_mean 0.13789962710031323 controled_std 0.061569839126957314\n",
      "Ttest_indResult(statistic=43.86887455532535, pvalue=0.0)\n",
      "hedge_g -1.0550633232179698\n",
      "Share_all Satisfaction_for_freedom_agents\n",
      "delta 0.9019807829417387 cohen_d 0.8461128066467606\n",
      "controled_mean 0.058701605277318714 controled_std 0.02978721532099779\n",
      "Ttest_indResult(statistic=43.86887455532535, pvalue=0.0)\n",
      "hedge_g 0.8461128066467606\n"
     ]
    }
   ],
   "source": [
    "controled_df = dataframes[0]\n",
    "\n",
    "for agentId in range(len(agent_types)):\n",
    "    agent_label = agent_labels[agentId]\n",
    "    controled_std, controled_mean = statistics.stdev(controled_df[agent_label]), 1 - statistics.mean(controled_df[agent_label]) if reverse else statistics.mean(controled_df[agent_label])\n",
    "    delta = (target_mean - controled_mean) / controled_std\n",
    "    std_pooled = sqrt((target_std ** 2 + controled_std ** 2) / 2)\n",
    "    cohen_d = (target_mean - controled_mean) / std_pooled\n",
    "    print(societies[0], agent_labels[agentId])\n",
    "    print('delta', delta, 'cohen_d', cohen_d)\n",
    "    print('controled_mean', controled_mean, 'controled_std', controled_std)\n",
    "    print(stats.ttest_ind(controled_df[attribute], target_df[attribute], equal_var = True))\n",
    "\n",
    "    std_pooled = sqrt((((count - 1) * (controled_std ** 2) + (count - 1) * (target_std ** 2))) / ((count - 1) + (count - 1)))\n",
    "    hedge_g = (target_mean - controled_mean) / std_pooled\n",
    "    print('hedge_g', hedge_g)"
   ]
  },
  {
   "cell_type": "code",
   "execution_count": 53,
   "metadata": {},
   "outputs": [
    {
     "name": "stdout",
     "output_type": "stream",
     "text": [
      "Share_rules Satisfaction_for_health_agents\n",
      "delta -0.4436633819459502 cohen_d -0.5664528501709782\n",
      "controled_mean 0.11686959133991381 controled_std 0.07055008715936935\n",
      "Ttest_indResult(statistic=77.09889051021455, pvalue=0.0)\n",
      "hedge_g -0.5664528501709782\n",
      "Share_rules Satisfaction_for_freedom_agents\n",
      "delta 0.8690014207109888 cohen_d 0.8490678109178201\n",
      "controled_mean 0.057661185543343874 controled_std 0.03211492509187065\n",
      "Ttest_indResult(statistic=77.09889051021455, pvalue=0.0)\n",
      "hedge_g 0.8490678109178201\n"
     ]
    }
   ],
   "source": [
    "controled_df = dataframes[1]\n",
    "\n",
    "for agentId in range(len(agent_types)):\n",
    "    agent_label = agent_labels[agentId]\n",
    "    controled_std, controled_mean = statistics.stdev(controled_df[agent_label]), 1 - statistics.mean(controled_df[agent_label]) if reverse else statistics.mean(controled_df[agent_label])\n",
    "    delta = (target_mean - controled_mean) / controled_std\n",
    "    std_pooled = sqrt((target_std ** 2 + controled_std ** 2) / 2)\n",
    "    cohen_d = (target_mean - controled_mean) / std_pooled\n",
    "    print(societies[1], agent_labels[agentId])\n",
    "    print('delta', delta, 'cohen_d', cohen_d)\n",
    "    print('controled_mean', controled_mean, 'controled_std', controled_std)\n",
    "    print(stats.ttest_ind(controled_df[attribute], target_df[attribute], equal_var = True))\n",
    "\n",
    "    std_pooled = sqrt((((count - 1) * (controled_std ** 2) + (count - 1) * (target_std ** 2))) / ((count - 1) + (count - 1)))\n",
    "    hedge_g = (target_mean - controled_mean) / std_pooled\n",
    "    print('hedge_g', hedge_g)"
   ]
  },
  {
   "cell_type": "code",
   "execution_count": null,
   "metadata": {},
   "outputs": [],
   "source": []
  },
  {
   "cell_type": "code",
   "execution_count": null,
   "metadata": {},
   "outputs": [],
   "source": []
  }
 ],
 "metadata": {
  "kernelspec": {
   "display_name": "Python 3",
   "language": "python",
   "name": "python3"
  },
  "language_info": {
   "codemirror_mode": {
    "name": "ipython",
    "version": 3
   },
   "file_extension": ".py",
   "mimetype": "text/x-python",
   "name": "python",
   "nbconvert_exporter": "python",
   "pygments_lexer": "ipython3",
   "version": "3.8.10"
  }
 },
 "nbformat": 4,
 "nbformat_minor": 4
}
