{
 "cells": [
  {
   "cell_type": "code",
   "execution_count": 1,
   "metadata": {},
   "outputs": [],
   "source": [
    "import csv\n",
    "import numpy as np, pandas as pd\n",
    "from scipy import stats\n",
    "from math import sqrt\n",
    "import statistics\n",
    "import researchpy"
   ]
  },
  {
   "cell_type": "code",
   "execution_count": 2,
   "metadata": {},
   "outputs": [],
   "source": [
    "env_path = ''\n",
    "logs_path = env_path + 'results/stats/'\n",
    "\n",
    "file_names = ['Share_all.csv', 'Share_rules.csv', 'Exanna.csv']\n",
    "\n",
    "count = 10"
   ]
  },
  {
   "cell_type": "code",
   "execution_count": 9,
   "metadata": {},
   "outputs": [
    {
     "name": "stdout",
     "output_type": "stream",
     "text": [
      "target_mean 60.4354371 target_std 2.106013931775406\n"
     ]
    }
   ],
   "source": [
    "# distributed_dataframe = pd.read_csv(logs_path + 'distributed.csv', error_bad_lines = False)\n",
    "share_all_dataframe = pd.read_csv(logs_path + file_names[0])\n",
    "share_rules_dataframe = pd.read_csv(logs_path + file_names[1])\n",
    "exanna_dataframe = pd.read_csv(logs_path + file_names[2])\n",
    "\n",
    "attribute = 'resolution'\n",
    "target_df = exanna_dataframe\n",
    "target_std, target_mean = statistics.stdev(target_df[attribute]), statistics.mean(target_df[attribute])\n",
    "\n",
    "print('target_mean', target_mean, 'target_std', target_std)"
   ]
  },
  {
   "cell_type": "code",
   "execution_count": 10,
   "metadata": {},
   "outputs": [
    {
     "name": "stdout",
     "output_type": "stream",
     "text": [
      "share_all_dataframe controled_mean 58.4541482\n",
      "share_rules_dataframe controled_mean 58.1909254\n"
     ]
    }
   ],
   "source": [
    "controled_df = share_all_dataframe\n",
    "controled_std, controled_mean = statistics.stdev(controled_df[attribute]), statistics.mean(controled_df[attribute])\n",
    "print('share_all_dataframe', 'controled_mean', controled_mean)\n",
    "controled_df = share_rules_dataframe\n",
    "controled_std, controled_mean = statistics.stdev(controled_df[attribute]), statistics.mean(controled_df[attribute])\n",
    "print('share_rules_dataframe', 'controled_mean', controled_mean)\n"
   ]
  },
  {
   "cell_type": "code",
   "execution_count": 11,
   "metadata": {},
   "outputs": [
    {
     "name": "stdout",
     "output_type": "stream",
     "text": [
      "delta 1.0004683987178982\n",
      "cohen_d 0.969246721266524\n",
      "controled_mean 58.4541482 controled_std 1.980361301305496\n",
      "Ttest_indResult(statistic=-2.1673015557207385, pvalue=0.04386875667005175)\n",
      "hedge_g 0.969246721266524\n"
     ]
    }
   ],
   "source": [
    "controled_df = share_all_dataframe\n",
    "controled_std, controled_mean = statistics.stdev(controled_df[attribute]), statistics.mean(controled_df[attribute])\n",
    "delta = (target_mean - controled_mean) / controled_std\n",
    "std_pooled = sqrt((target_std ** 2 + controled_std ** 2) / 2)\n",
    "cohen_d = (target_mean - controled_mean) / std_pooled\n",
    "print('delta', delta)\n",
    "print('cohen_d', cohen_d)\n",
    "print('controled_mean', controled_mean, 'controled_std', controled_std)\n",
    "print(stats.ttest_ind(controled_df[attribute], target_df[attribute], equal_var = True))\n",
    "\n",
    "std_pooled = sqrt((((count - 1) * (controled_std ** 2) + (count - 1) * (target_std ** 2))) / ((count - 1) + (count - 1)))\n",
    "hedge_g = (target_mean - controled_mean) / std_pooled\n",
    "print('hedge_g', hedge_g)"
   ]
  },
  {
   "cell_type": "code",
   "execution_count": 12,
   "metadata": {},
   "outputs": [
    {
     "name": "stdout",
     "output_type": "stream",
     "text": [
      "delta 2.163390441372683\n",
      "cohen_d 1.3520547291142335\n",
      "controled_mean 58.1909254 controled_std 1.0374972806923604\n",
      "Ttest_indResult(statistic=-3.0232862835994805, pvalue=0.007305656477651574)\n",
      "hedge_g 1.3520547291142335\n"
     ]
    }
   ],
   "source": [
    "controled_df = share_rules_dataframe\n",
    "controled_std, controled_mean = statistics.stdev(controled_df[attribute]), statistics.mean(controled_df[attribute])\n",
    "delta = (target_mean - controled_mean) / controled_std\n",
    "std_pooled = sqrt((target_std ** 2 + controled_std ** 2) / 2)\n",
    "cohen_d = (target_mean - controled_mean) / std_pooled\n",
    "print('delta', delta)\n",
    "print('cohen_d', cohen_d)\n",
    "print('controled_mean', controled_mean, 'controled_std', controled_std)\n",
    "print(stats.ttest_ind(controled_df[attribute], target_df[attribute], equal_var = True))\n",
    "\n",
    "std_pooled = sqrt((((count - 1) * (controled_std ** 2) + (count - 1) * (target_std ** 2))) / ((count - 1) + (count - 1)))\n",
    "hedge_g = (target_mean - controled_mean) / std_pooled\n",
    "print('hedge_g', hedge_g)"
   ]
  },
  {
   "cell_type": "code",
   "execution_count": 13,
   "metadata": {},
   "outputs": [],
   "source": [
    "# researchpy.ttest(Noe_dataframe['cohesion'], Noe_dataframe['cohesion'])"
   ]
  },
  {
   "cell_type": "code",
   "execution_count": null,
   "metadata": {},
   "outputs": [],
   "source": []
  },
  {
   "cell_type": "code",
   "execution_count": null,
   "metadata": {},
   "outputs": [],
   "source": []
  },
  {
   "cell_type": "code",
   "execution_count": null,
   "metadata": {},
   "outputs": [],
   "source": []
  },
  {
   "cell_type": "code",
   "execution_count": null,
   "metadata": {},
   "outputs": [],
   "source": []
  }
 ],
 "metadata": {
  "kernelspec": {
   "display_name": "Python 3",
   "language": "python",
   "name": "python3"
  },
  "language_info": {
   "codemirror_mode": {
    "name": "ipython",
    "version": 3
   },
   "file_extension": ".py",
   "mimetype": "text/x-python",
   "name": "python",
   "nbconvert_exporter": "python",
   "pygments_lexer": "ipython3",
   "version": "3.8.10"
  }
 },
 "nbformat": 4,
 "nbformat_minor": 4
}
